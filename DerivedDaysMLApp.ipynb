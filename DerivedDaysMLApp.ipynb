{
 "cells": [
  {
   "cell_type": "code",
   "execution_count": 2,
   "id": "6b5ccf4e",
   "metadata": {},
   "outputs": [],
   "source": [
    "\"\"\"\n",
    "import pyodbc\n",
    "import pickle\n",
    "import pandas as pd\n",
    "import numpy as np\n",
    "pd.set_option(\"display.max_columns\", None)\n",
    "pd.set_option('display.max_rows', None)\n",
    "\n",
    "import seaborn as sns\n",
    "import matplotlib.pyplot as plt\n",
    "import networkx as nx\n",
    "%matplotlib inline\n",
    "sns.set()\n",
    "\n",
    "from sklearn import preprocessing\n",
    "from sklearn.model_selection import train_test_split\n",
    "from sklearn.model_selection import cross_val_score\n",
    "\n",
    "from sklearn.ensemble import BaggingClassifier\n",
    "\n",
    "from sklearn.metrics import mean_absolute_error, mean_squared_error, explained_variance_score,r2_score\n",
    "from sklearn import metrics  \n",
    "\n",
    "df = pd.read_excel(r'C:\\Users\\rquiles\\OneDrive - Healthesystems, LLC\\Desktop\\derived_day_supply_xl.xlsx')\n",
    "\n",
    "df['item_name_1'] = df['item_name'].str.extract('(\\d+)').fillna(value=1)\n",
    "\n",
    "df = df.head(2500)\n",
    "\n",
    "encode = preprocessing.LabelEncoder()\n",
    "df['GPI'] = encode.fit_transform(df['GPI'].astype(str)).astype(int)\n",
    "df['prescriber_id'] = encode.fit_transform(df['prescriber_id'].astype(str)).astype(int)\n",
    "df['item_name'] = encode.fit_transform(df['item_name']).astype(str).astype(int)\n",
    "df['item_name_1'] = df['item_name_1'].astype(int)\n",
    "df['dosage'] = df['item_name']/df['quantity']\n",
    "\n",
    "X = df[['GPI', 'item_name','item_name_1', 'prescriber_id', 'quantity']]\n",
    "y = df['days_supply']\n",
    "\n",
    "X_train, X_test, y_train, y_test = train_test_split(X, y, test_size=0.3, random_state =4)\n",
    "\n",
    "bgc = BaggingClassifier(max_features=4, n_estimators=100, random_state=123, bootstrap_features=True).fit(X_train, y_train)\n",
    "#y_test_pred = bgc.predict(X_test)\n",
    "#dt = DecisionTreeRegressor(max_features = 'auto', splitter='best').fit(X_train, y_train)\n",
    "\n",
    "#print(metrics.accuracy_score(y_test,np.round(y_test_pred.astype(int),0)))\n",
    "#print('The tesing r_sq is: %.2f'% r2_score(y_test, np.round(y_test_pred,2)))\n",
    "\n",
    "with open('bgc.pickle', 'wb') as to_write:\n",
    "    pickle.dump(bgc, to_write)\n",
    "\"\"\""
   ]
  },
  {
   "cell_type": "code",
   "execution_count": 9,
   "id": "b6ca7613",
   "metadata": {},
   "outputs": [
    {
     "name": "stdout",
     "output_type": "stream",
     "text": [
      "89.38\n"
     ]
    }
   ],
   "source": [
    "# Dependencies\n",
    "import pyodbc\n",
    "import pickle\n",
    "import pandas as pd\n",
    "import numpy as np\n",
    "pd.set_option(\"display.max_columns\", None)\n",
    "pd.set_option('display.max_rows', None)\n",
    "\n",
    "import seaborn as sns\n",
    "import matplotlib.pyplot as plt\n",
    "import networkx as nx\n",
    "%matplotlib inline\n",
    "sns.set()\n",
    "\n",
    "from sklearn import preprocessing\n",
    "from sklearn.model_selection import train_test_split\n",
    "from sklearn.model_selection import cross_val_score\n",
    "\n",
    "from sklearn.ensemble import BaggingClassifier\n",
    "\n",
    "from sklearn.metrics import mean_absolute_error, mean_squared_error, explained_variance_score,r2_score\n",
    "from sklearn import metrics  \n",
    "\n",
    "#Importing Dataset\n",
    "df = pd.read_excel(r'C:\\Users\\rquiles\\OneDrive - Healthesystems, LLC\\Desktop\\derived_day_supply_xl.xlsx')\n",
    "\n",
    "#Data Preprocessing\n",
    "encode = preprocessing.LabelEncoder()\n",
    "\n",
    "df['GPI'] = encode.fit_transform(df['GPI'].astype(str)).astype(int)\n",
    "df['prescriber_id'] = encode.fit_transform(df['prescriber_id'].astype(str)).astype(int)\n",
    "df['item_name'] = encode.fit_transform(df['item_name']).astype(str).astype(int)\n",
    "\n",
    "X = df[['GPI', 'prescriber_id', 'quantity', 'item_name']].iloc[0:800001,0:]\n",
    "y= df['days_supply'].iloc[0:800001]\n",
    "\n",
    "#Dividing Dataset into train and testing data sets\n",
    "X_train, X_test, y_train, y_test = train_test_split(X, y, test_size=0.3, random_state =4)\n",
    "\n",
    "#Initializing model (Ensemble Decision Tree Bagging)\n",
    "bgc = BaggingClassifier(max_features=4,\n",
    "                        n_estimators=25, \n",
    "                        random_state=123, \n",
    "                        bootstrap_features=True).fit(X_train, y_train)\n",
    "\n",
    "#Scoring Model\n",
    "#y_test_pred = bgc.predict(X_test)\n",
    "#print(round((metrics.accuracy_score(y_test,np.round(y_test_pred.astype(int),2))*100),2))\n",
    "\n",
    "#Use Pickle to save the model\n",
    "with open('bgc.pickle', 'wb') as to_write:\n",
    "    pickle.dump(bgc, to_write)"
   ]
  },
  {
   "cell_type": "code",
   "execution_count": 23,
   "id": "02d6bcae",
   "metadata": {},
   "outputs": [
    {
     "data": {
      "text/plain": [
       "array([ 1968.,  2066.,   150., 20203.])"
      ]
     },
     "execution_count": 23,
     "metadata": {},
     "output_type": "execute_result"
    }
   ],
   "source": [
    "np.array(X_test.iloc[2500,:])"
   ]
  },
  {
   "cell_type": "code",
   "execution_count": 25,
   "id": "ab3a83f4",
   "metadata": {},
   "outputs": [
    {
     "data": {
      "text/plain": [
       "array([30], dtype=int64)"
      ]
     },
     "execution_count": 25,
     "metadata": {},
     "output_type": "execute_result"
    }
   ],
   "source": [
    "bgc.predict(np.array(X_test.iloc[2500,:]).reshape(1,4))"
   ]
  },
  {
   "cell_type": "code",
   "execution_count": 17,
   "id": "3243b152",
   "metadata": {},
   "outputs": [
    {
     "data": {
      "text/plain": [
       "GPI                int32\n",
       "item_name          int32\n",
       "quantity         float64\n",
       "prescriber_id      int32\n",
       "dtype: object"
      ]
     },
     "execution_count": 17,
     "metadata": {},
     "output_type": "execute_result"
    }
   ],
   "source": [
    "#np.array([1785, 2366, 800, 73026, 26.288889, 90]).shape\n",
    "X_test.dtypes"
   ]
  },
  {
   "cell_type": "code",
   "execution_count": null,
   "id": "72467122",
   "metadata": {},
   "outputs": [],
   "source": []
  }
 ],
 "metadata": {
  "kernelspec": {
   "display_name": "Python 3 (ipykernel)",
   "language": "python",
   "name": "python3"
  },
  "language_info": {
   "codemirror_mode": {
    "name": "ipython",
    "version": 3
   },
   "file_extension": ".py",
   "mimetype": "text/x-python",
   "name": "python",
   "nbconvert_exporter": "python",
   "pygments_lexer": "ipython3",
   "version": "3.9.7"
  }
 },
 "nbformat": 4,
 "nbformat_minor": 5
}

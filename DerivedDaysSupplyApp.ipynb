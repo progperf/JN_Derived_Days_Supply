{
 "cells": [
  {
   "cell_type": "markdown",
   "id": "a252b2d0",
   "metadata": {},
   "source": [
    "## Derived Days Supply Prediction "
   ]
  },
  {
   "cell_type": "code",
   "execution_count": 37,
   "id": "075a8633",
   "metadata": {},
   "outputs": [
    {
     "name": "stderr",
     "output_type": "stream",
     "text": [
      "Enabling notebook extension jupyter-js-widgets/extension...\n",
      "      - Validating: ok\n"
     ]
    }
   ],
   "source": [
    "\n",
    "#!pip3 install --upgrade viola\n",
    "\n",
    "#!pip install -U voila --user\n",
    "#! pip3 install --upgrade ipywidgets\n",
    "#!jupyter nbextension enable --py --sys-prefix widgetsnbextension\n",
    "!jupyter nbextension enable --py widgetsnbextension\n",
    "#!jupyter nbextension install --user --py widgetsnbextension\n",
    "#!jupyter nbextension enable widgetsnbextension --user --py\n",
    "#!jupyter nbextension enable --py widgetsnbextension --sys-prefix"
   ]
  },
  {
   "cell_type": "code",
   "execution_count": 83,
   "id": "c1cddd85",
   "metadata": {},
   "outputs": [],
   "source": [
    "import ipywidgets as widgets\n",
    "from ipywidgets import * \n",
    "\n",
    "from IPython.display import display, clear_output\n",
    "import pickle"
   ]
  },
  {
   "cell_type": "code",
   "execution_count": 4,
   "id": "c6f495bf",
   "metadata": {},
   "outputs": [],
   "source": [
    "bgc_model = pickle.load(open('bgc.pickle', 'rb'))"
   ]
  },
  {
   "cell_type": "code",
   "execution_count": 91,
   "id": "7a25b78d",
   "metadata": {},
   "outputs": [],
   "source": [
    "def run_model(GPI, prescriber_id, quantity, item_name):\n",
    "    import numpy as np\n",
    "    import pickle\n",
    "    import re\n",
    "    from ipywidgets import Output\n",
    "    \n",
    "    from sklearn import preprocessing\n",
    "    from sklearn.model_selection import train_test_split\n",
    "    from sklearn.ensemble import BaggingClassifier\n",
    "    \n",
    "\n",
    "    encode = preprocessing.LabelEncoder()\n",
    "\n",
    "    try:\n",
    "        array = np.array([GPI, prescriber_id, item_name])\n",
    "        #item_name_1 = int(list(filter(str.isdigit, item_name.split()[-1]))[0])\n",
    "        #item_name_1 =  int(re.findall(r'\\d+', item_name)[0])\n",
    "        encoded_array = encode.fit_transform(array).astype(int)\n",
    "        try:\n",
    "    #dosage = encoded_array[1]/quantity\n",
    "            #array = np.append(encoded_array, (item_name_1,quantity))\n",
    "            array = np.append(encoded_array[0], (encoded_array[1], quantity, encoded_array[2]))\n",
    "            results = bgc_model.predict(np.array(array).reshape(1,4))\n",
    "    #return results\n",
    "            out = Output(layout={'border': '1px solid white'})\n",
    "            with out:\n",
    "                clear_output()\n",
    "                display(HTML(value=f'Predicted Days Supply: <b>{results}</b>'))\n",
    "            return out\n",
    "        except ValueError:\n",
    "            pass\n",
    "    except IndexError:\n",
    "        pass\n"
   ]
  },
  {
   "cell_type": "code",
   "execution_count": 92,
   "id": "83ed9013",
   "metadata": {
    "scrolled": true
   },
   "outputs": [
    {
     "data": {
      "application/vnd.jupyter.widget-view+json": {
       "model_id": "82f69cdd1c924802babf7bffcbcd9062",
       "version_major": 2,
       "version_minor": 0
      },
      "text/plain": [
       "interactive(children=(IntText(value=0, description='GPI:'), IntText(value=0, description='Prescriber ID:'), In…"
      ]
     },
     "metadata": {},
     "output_type": "display_data"
    },
    {
     "data": {
      "text/plain": [
       "<function __main__.run_model(GPI, prescriber_id, quantity, item_name)>"
      ]
     },
     "execution_count": 92,
     "metadata": {},
     "output_type": "execute_result"
    }
   ],
   "source": [
    "interact(run_model,\n",
    "        #GPI = widgets.IntText(description='GPI:',disabled=False),\n",
    "        #prescriber_id = widgets.IntText(description='Prescriber ID:', disabled=False),\n",
    "        #quantity = widgets.IntText(value=1, description='Quantity:', disabled=False),\n",
    "        #item_name = widgets.Text(placeholder='PREDNISONE TAB 20MG',description='Item Name:',disabled=False)\n",
    "        GPI = widgets.IntText(description='GPI:',disabled=False),\n",
    "        prescriber_id = widgets.IntText(description='Prescriber ID:', disabled=False),\n",
    "        quantity = widgets.IntText(value=30, description='Quantity:', disabled=False),\n",
    "        item_name =  widgets.Text(placeholder='GABAPENTIN   CAP 100MG', description='Item Name:', disabled=False)\n",
    "    )\n"
   ]
  },
  {
   "cell_type": "code",
   "execution_count": 80,
   "id": "5be1dc82",
   "metadata": {},
   "outputs": [],
   "source": [
    "#run_model(72600030000110, 1023228624, 100, \"GABAPENTIN   CAP 100MG\")"
   ]
  },
  {
   "cell_type": "code",
   "execution_count": 93,
   "id": "0a6b9dbb",
   "metadata": {},
   "outputs": [],
   "source": [
    "!pip freeze > requirements.txt"
   ]
  },
  {
   "cell_type": "code",
   "execution_count": null,
   "id": "8705f0cc",
   "metadata": {},
   "outputs": [],
   "source": []
  }
 ],
 "metadata": {
  "kernelspec": {
   "display_name": "Python 3 (ipykernel)",
   "language": "python",
   "name": "python3"
  },
  "language_info": {
   "codemirror_mode": {
    "name": "ipython",
    "version": 3
   },
   "file_extension": ".py",
   "mimetype": "text/x-python",
   "name": "python",
   "nbconvert_exporter": "python",
   "pygments_lexer": "ipython3",
   "version": "3.9.7"
  }
 },
 "nbformat": 4,
 "nbformat_minor": 5
}
